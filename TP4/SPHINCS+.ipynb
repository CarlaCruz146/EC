{
 "cells": [
  {
   "cell_type": "markdown",
   "metadata": {},
   "source": [
    "# SPHINCS+"
   ]
  },
  {
   "cell_type": "markdown",
   "metadata": {},
   "source": [
    "**SPHINCS+** recebe os parâmetros:\n",
    "\n",
    "- $n$:  Pârametro de segurança\n",
    "- $w$:  Pârametro Winternitz\n",
    "- $h$:  Altura da Hypertree\n",
    "- $d$:  Nº de camadas da Hypertree\n",
    "- $k$:  Nº de árvores no FORS\n",
    "- $t$:  Nº de folhas de uma árvore do FORS"
   ]
  },
  {
   "cell_type": "code",
   "execution_count": 1,
   "metadata": {},
   "outputs": [],
   "source": [
    "import math\n",
    "import hashlib\n",
    "import random  # Only for Pseudo-randoms\n",
    "import os # Secure Randoms"
   ]
  },
  {
   "cell_type": "markdown",
   "metadata": {},
   "source": [
    "## Classe ADRS - Hash Function Address Scheme"
   ]
  },
  {
   "cell_type": "code",
   "execution_count": 2,
   "metadata": {},
   "outputs": [],
   "source": [
    "class ADRS:\n",
    "    WOTS_HASH = 0\n",
    "    WOTS_PK = 1\n",
    "    TREE = 2\n",
    "    FORS_TREE = 3\n",
    "    FORS_ROOTS = 4\n",
    "\n",
    "    def __init__(self):\n",
    "        self.layer = 0\n",
    "        self.tree_address = 0\n",
    "        self.type = 0\n",
    "        self.word_1 = 0\n",
    "        self.word_2 = 0\n",
    "        self.word_3 = 0\n",
    "\n",
    "    def copy(self):\n",
    "        adrs = ADRS()\n",
    "        adrs.layer = self.layer\n",
    "        adrs.tree_address = self.tree_address\n",
    "        adrs.type = self.type\n",
    "        adrs.word_1 = self.word_1\n",
    "        adrs.word_2 = self.word_2\n",
    "        adrs.word_3 = self.word_3\n",
    "        return adrs\n",
    "\n",
    "    def to_bin(self):\n",
    "        adrs = self.layer.to_bytes(4, byteorder='big')\n",
    "        adrs += self.tree_address.to_bytes(12, byteorder='big')\n",
    "        adrs += self.type.to_bytes(4, byteorder='big')\n",
    "        adrs += self.word_1.to_bytes(4, byteorder='big')\n",
    "        adrs += self.word_2.to_bytes(4, byteorder='big')\n",
    "        adrs += self.word_3.to_bytes(4, byteorder='big')\n",
    "\n",
    "        return adrs\n",
    "\n",
    "    def reset_words(self):\n",
    "        self.word_1 = 0\n",
    "        self.word_2 = 0\n",
    "        self.word_3 = 0\n",
    "\n",
    "    def set_type(self, val):\n",
    "        self.type = val\n",
    "        self.word_2 = 0\n",
    "        self.word_3 = 0\n",
    "        self.word_1 = 0\n",
    "\n",
    "    def set_layer_address(self, val):\n",
    "        self.layer = val\n",
    "\n",
    "    def set_tree_address(self, val):\n",
    "        self.tree_address = val\n",
    "\n",
    "    def set_key_pair_address(self, val):\n",
    "        self.word_1 = val\n",
    "\n",
    "    def get_key_pair_address(self):\n",
    "        return self.word_1\n",
    "\n",
    "    def set_chain_address(self, val):\n",
    "        self.word_2 = val\n",
    "\n",
    "    def set_hash_address(self, val):\n",
    "        self.word_3 = val\n",
    "\n",
    "    def set_tree_height(self, val):\n",
    "        self.word_2 = val\n",
    "\n",
    "    def get_tree_height(self):\n",
    "        return self.word_2\n",
    "\n",
    "    def set_tree_index(self, val):\n",
    "        self.word_3 = val\n",
    "\n",
    "    def get_tree_index(self):\n",
    "        return self.word_3"
   ]
  },
  {
   "cell_type": "markdown",
   "metadata": {},
   "source": [
    "## Strings of Base-w Numbers\n",
    "\n",
    "Uma vez que uma string byte pode ser considerada uma string de números base _w_, com esta função é-lhe dado como input uma string x, um inteiro w bem como o comprimento do output. Neste sentido, a função implementada, retornar um array base_w de inteiro com o comprimento conhecido."
   ]
  },
  {
   "cell_type": "code",
   "execution_count": 3,
   "metadata": {},
   "outputs": [],
   "source": [
    "def base_w(x, w, out_len):\n",
    "    vin = 0\n",
    "    vout = 0\n",
    "    total = 0\n",
    "    bits = 0\n",
    "    basew = []\n",
    "\n",
    "    for consumed in range(0, out_len):\n",
    "        if bits == 0:\n",
    "            total = x[vin]\n",
    "            vin += 1\n",
    "            bits += 8\n",
    "        bits -= math.floor(math.log(w, 2))\n",
    "        basew.append((total >> bits) % w)\n",
    "        vout += 1\n",
    "\n",
    "    return basew"
   ]
  },
  {
   "cell_type": "markdown",
   "metadata": {},
   "source": [
    "## Inicialização dos Parâmetros"
   ]
  },
  {
   "cell_type": "code",
   "execution_count": 4,
   "metadata": {},
   "outputs": [],
   "source": [
    "_randomize = True \n",
    "\n",
    "_n = 16\n",
    "_w = 16\n",
    "_h = 64\n",
    "_d = 8\n",
    "_k = 10\n",
    "_a = 15\n",
    "_t = 2 ** _a \n",
    "\n",
    "_len_1 = math.ceil(8 * _n / math.log(_w, 2))\n",
    "_len_2 = math.floor(math.log(_len_1 * (_w - 1), 2) / math.log(_w, 2)) + 1\n",
    "_len_0 = _len_1 + _len_2\n",
    "_h_prime = _h // _d\n",
    "\n",
    "\n",
    "def calculate_variables():\n",
    "    _len_1 = math.ceil(8 * _n / math.log(_w, 2))\n",
    "    _len_2 = math.floor(math.log(_len_1 * (_w - 1), 2) / math.log(_w, 2)) + 1\n",
    "    _len_0 = _len_1 + _len_2\n",
    "    _h_prime = _h // _d\n",
    "    _t = 2 ** _a"
   ]
  },
  {
   "cell_type": "markdown",
   "metadata": {},
   "source": [
    "## Funções Auxiliares\n",
    "\n",
    "De forma a auxiliar a nossa solução, são definidos os gets e sets que iriam permitir, como os próprios nomes indicam, obter o valor das variáveis e atualizá-las."
   ]
  },
  {
   "cell_type": "code",
   "execution_count": 5,
   "metadata": {},
   "outputs": [],
   "source": [
    "def set_security( val):\n",
    "    _n = val\n",
    "    calculate_variables()\n",
    "\n",
    "def set_n( val):\n",
    "    _n = val\n",
    "    calculate_variables()\n",
    "\n",
    "def get_security():\n",
    "    return _n\n",
    "\n",
    "def set_W( val):\n",
    "    if val == 4 or val == 16 or val == 256:\n",
    "        _w = val\n",
    "    calculate_variables()\n",
    "\n",
    "def set_w( val):\n",
    "    if val == 4 or val == 16 or val == 256:\n",
    "        _w = val\n",
    "    calculate_variables()\n",
    "\n",
    "def get_winternitz():\n",
    "    return _w\n",
    "\n",
    "def set_hypertree_height( val):\n",
    "    _h = val\n",
    "    calculate_variables()\n",
    "\n",
    "def set_h( val):\n",
    "    _h = val\n",
    "    calculate_variables()\n",
    "\n",
    "def get_hypertree_height():\n",
    "    return _h\n",
    "\n",
    "def set_hypertree_layers( val):\n",
    "    _d = val\n",
    "    calculate_variables()\n",
    "\n",
    "def set_d( val):\n",
    "    _d = val\n",
    "    calculate_variables()\n",
    "\n",
    "def get_hypertree_layers():\n",
    "    return _d\n",
    "\n",
    "def set_fors_trees_number( val):\n",
    "    _k = val\n",
    "    calculate_variables()\n",
    "\n",
    "def set_k( val):\n",
    "    _k = val\n",
    "    calculate_variables()\n",
    "\n",
    "def get_fors_trees_number():\n",
    "    return _k\n",
    "\n",
    "def set_fors_trees_height( val):\n",
    "    _a = val\n",
    "    calculate_variables()\n",
    "\n",
    "def set_a( val):\n",
    "    _a = val\n",
    "    calculate_variables()\n",
    "\n",
    "def get_fors_trees_height():\n",
    "    return _a"
   ]
  },
  {
   "cell_type": "markdown",
   "metadata": {},
   "source": [
    "## Tweakable Hash Functions\n",
    "\n",
    "De acordo com o documento de auxílio, estas funções recebem uma public seed e um endereço **ADRS** em conjunto com a mensagem. Desta forma, é-nos possível tornar as chamadas das funções de hash independentes entre cada par e posição na árvore virtual da estrutura do **SPHINCS+**."
   ]
  },
  {
   "cell_type": "code",
   "execution_count": 6,
   "metadata": {},
   "outputs": [],
   "source": [
    "def hash(seed, adrs: ADRS, value, digest_size):\n",
    "    m = hashlib.sha256()\n",
    "    m.update(seed)\n",
    "    m.update(adrs.to_bin())\n",
    "    m.update(value)\n",
    "    hashed = m.digest()[:digest_size]\n",
    "    return hashed\n",
    "\n",
    "\n",
    "def prf(secret_seed, adrs, digest_size):\n",
    "    random.seed(int.from_bytes(secret_seed + adrs.to_bin(), \"big\"))\n",
    "    return random.randint(0, 256 ** digest_size - 1).to_bytes(digest_size, byteorder='big')\n",
    "\n",
    "\n",
    "def hash_msg(r, public_seed, public_root, value, digest_size):\n",
    "    m = hashlib.sha256()\n",
    "    m.update(r)\n",
    "    m.update(public_seed)\n",
    "    m.update(public_root)\n",
    "    m.update(value)\n",
    "    hashed = m.digest()[:digest_size]\n",
    "\n",
    "    i = 0\n",
    "    while len(hashed) < digest_size:\n",
    "        i += 1\n",
    "        m = hashlib.sha256()\n",
    "        m.update(r)\n",
    "        m.update(public_seed)\n",
    "        m.update(public_root)\n",
    "        m.update(value)\n",
    "        m.update(bytes([i]))\n",
    "        hashed += m.digest()[:digest_size - len(hashed)]\n",
    "\n",
    "    return hashed\n",
    "\n",
    "\n",
    "def prf_msg(secret_seed, opt, m, digest_size):\n",
    "    random.seed(int.from_bytes(secret_seed + opt + hash_msg(b'0', b'0', b'0', m, digest_size * 2), \"big\"))\n",
    "    return random.randint(0, 256 ** digest_size - 1).to_bytes(digest_size, byteorder='big')\n",
    "\n",
    "def print_bytes_bit(value):\n",
    "    array = []\n",
    "    for val in value:\n",
    "        for j in range(7, -1, -1):\n",
    "            array.append((val >> j) % 2)\n",
    "    print(array)"
   ]
  },
  {
   "cell_type": "markdown",
   "metadata": {},
   "source": [
    "## WOTS+\n",
    "\n",
    "O WOTS+ significa que cada chave privada apenas pode ser utilizada para assinar uma única mensagem.\n",
    "\n",
    "Esta função computa a iteração num input de *n* bytes, utilizando o endereço de hash WOTS+ $ADRS$ e a public seed. "
   ]
  },
  {
   "cell_type": "code",
   "execution_count": 7,
   "metadata": {},
   "outputs": [],
   "source": [
    "def chain( x, i, s, public_seed, adrs: ADRS):\n",
    "    if s == 0:\n",
    "        return bytes(x)\n",
    "\n",
    "    if (i + s) > (_w - 1):\n",
    "        return -1\n",
    "\n",
    "    tmp = chain(x, i, s - 1, public_seed, adrs)\n",
    "\n",
    "    adrs.set_hash_address(i + s - 1)\n",
    "    tmp = hash(public_seed, adrs, tmp, _n)\n",
    "\n",
    "    return tmp"
   ]
  },
  {
   "cell_type": "markdown",
   "metadata": {},
   "source": [
    "### Chave Privada e Pública\n"
   ]
  },
  {
   "cell_type": "code",
   "execution_count": 8,
   "metadata": {},
   "outputs": [],
   "source": [
    "def wots_sk_gen( secret_seed, adrs: ADRS): \n",
    "    sk = []\n",
    "    for i in range(0, _len_0):\n",
    "        adrs.set_chain_address(i)\n",
    "        adrs.set_hash_address(0)\n",
    "        sk.append(prf(secret_seed, adrs.copy(), _n))\n",
    "    return sk\n",
    "\n",
    "def wots_pk_gen( secret_seed, public_seed, adrs: ADRS):\n",
    "    \n",
    "    # copy address to create OTS public key address\n",
    "    wots_pk_adrs = adrs.copy()\n",
    "    tmp = bytes()\n",
    "    for i in range(0, _len_0):\n",
    "        adrs.set_chain_address(i)\n",
    "        adrs.set_hash_address(0)\n",
    "        sk = prf(secret_seed, adrs.copy(), _n)\n",
    "        tmp += bytes(chain(sk, 0, _w - 1, public_seed, adrs.copy()))\n",
    "\n",
    "    wots_pk_adrs.set_type(ADRS.WOTS_PK)\n",
    "    wots_pk_adrs.set_key_pair_address(adrs.get_key_pair_address())\n",
    "\n",
    "    pk = hash(public_seed, wots_pk_adrs, tmp, _n)\n",
    "    return pk"
   ]
  },
  {
   "cell_type": "markdown",
   "metadata": {},
   "source": [
    "### Gerar Assinatura"
   ]
  },
  {
   "cell_type": "code",
   "execution_count": 9,
   "metadata": {},
   "outputs": [],
   "source": [
    "def wots_sign( m, secret_seed, public_seed, adrs):\n",
    "    csum = 0\n",
    "    msg = base_w(m, _w, _len_1)\n",
    "\n",
    "    for i in range(0, _len_1):\n",
    "        csum += _w - 1 - msg[i]\n",
    "\n",
    "    padding = (_len_2 * math.floor(math.log(_w, 2))) % 8 if (_len_2 * math.floor(math.log(_w, 2))) % 8 != 0 else 8\n",
    "    csum = csum << (8 - padding)\n",
    "    csumb = csum.to_bytes(math.ceil((_len_2 * math.floor(math.log(_w, 2))) / 8), byteorder='big')\n",
    "    csumw = base_w(csumb, _w, _len_2)\n",
    "    msg += csumw\n",
    "\n",
    "    sig = []\n",
    "    for i in range(0, _len_0):\n",
    "        adrs.set_chain_address(i)\n",
    "        adrs.set_hash_address(0)\n",
    "        sk = prf(secret_seed, adrs.copy(), _n)\n",
    "        sig += [chain(sk, 0, msg[i], public_seed, adrs.copy())]\n",
    "\n",
    "    return sig"
   ]
  },
  {
   "cell_type": "markdown",
   "metadata": {},
   "source": [
    "### Obter Chave Pública a partir da Assinatura"
   ]
  },
  {
   "cell_type": "code",
   "execution_count": 10,
   "metadata": {},
   "outputs": [],
   "source": [
    "def wots_pk_from_sig( sig, m, public_seed, adrs: ADRS):\n",
    "    csum = 0\n",
    "    wots_pk_adrs = adrs.copy()\n",
    "\n",
    "    # convert message to base w\n",
    "    msg = base_w(m, _w, _len_1)\n",
    "\n",
    "    # compute checksum\n",
    "    for i in range(0, _len_1):\n",
    "        csum += _w - 1 - msg[i]\n",
    "\n",
    "    # convert csum to base w\n",
    "    padding = (_len_2 * math.floor(math.log(_w, 2))) % 8 if (_len_2 * math.floor(math.log(_w, 2))) % 8 != 0 else 8\n",
    "    csum = csum << (8 - padding)\n",
    "    csumb = csum.to_bytes(math.ceil((_len_2 * math.floor(math.log(_w, 2))) / 8), byteorder='big')\n",
    "    csumw = base_w(csumb, _w, _len_2)\n",
    "    msg += csumw\n",
    "\n",
    "    tmp = bytes()\n",
    "    for i in range(0, _len_0):\n",
    "        adrs.set_chain_address(i)\n",
    "        tmp += chain(sig[i], msg[i], _w - 1 - msg[i], public_seed, adrs.copy())\n",
    "\n",
    "    wots_pk_adrs.set_type(ADRS.WOTS_PK)\n",
    "    wots_pk_adrs.set_key_pair_address(adrs.get_key_pair_address())\n",
    "    pk_sig = hash(public_seed, wots_pk_adrs, tmp, _n)\n",
    "    return pk_sig\n"
   ]
  },
  {
   "cell_type": "markdown",
   "metadata": {},
   "source": [
    "# Hypertree\n",
    "\n",
    "De forma a construir a hypertree do SPHINCS+ é inicialmente combinado o WOTS+ com uma árvore binária de hash, obtendo assim uma versão com input de tamanho fixo do **eXtended Merkle Signature Scheme (XMSS)**."
   ]
  },
  {
   "cell_type": "markdown",
   "metadata": {},
   "source": [
    "### Threehash"
   ]
  },
  {
   "cell_type": "code",
   "execution_count": 11,
   "metadata": {},
   "outputs": [],
   "source": [
    "def treehash( secret_seed, s, z, public_seed, adrs: ADRS):\n",
    "    if s % (1 << z) != 0:\n",
    "        return -1\n",
    "\n",
    "    stack = []\n",
    "\n",
    "    for i in range(0, 2 ** z):\n",
    "        adrs.set_type(ADRS.WOTS_HASH)\n",
    "        adrs.set_key_pair_address(s + i)\n",
    "        node = wots_pk_gen(secret_seed, public_seed, adrs.copy())\n",
    "\n",
    "        adrs.set_type(ADRS.TREE)\n",
    "        adrs.set_tree_height(1)\n",
    "        adrs.set_tree_index(s + i)\n",
    "\n",
    "        if len(stack) > 0:\n",
    "            while stack[len(stack) - 1]['height'] == adrs.get_tree_height():\n",
    "                adrs.set_tree_index((adrs.get_tree_index() - 1) // 2)\n",
    "                node = hash(public_seed, adrs.copy(), stack.pop()['node'] + node, _n)\n",
    "                adrs.set_tree_height(adrs.get_tree_height() + 1)\n",
    "\n",
    "                if len(stack) <= 0:\n",
    "                    break\n",
    "\n",
    "        stack.append({'node': node, 'height': adrs.get_tree_height()})\n",
    "\n",
    "    return stack.pop()['node']\n"
   ]
  },
  {
   "cell_type": "markdown",
   "metadata": {},
   "source": [
    "### Gerar Chave Pública"
   ]
  },
  {
   "cell_type": "code",
   "execution_count": 12,
   "metadata": {},
   "outputs": [],
   "source": [
    "def xmss_pk_gen( secret_seed, public_key, adrs: ADRS):\n",
    "    pk = treehash(secret_seed, 0, _h_prime, public_key, adrs.copy())\n",
    "    return pk"
   ]
  },
  {
   "cell_type": "markdown",
   "metadata": {},
   "source": [
    "### Gerar Assinatura"
   ]
  },
  {
   "cell_type": "code",
   "execution_count": 13,
   "metadata": {},
   "outputs": [],
   "source": [
    "def xmss_sign( m, secret_seed, idx, public_seed, adrs):\n",
    "    auth = []\n",
    "    # build authentication path\n",
    "    for j in range(0, _h_prime):\n",
    "        ki = math.floor(idx // 2 ** j)\n",
    "        if ki % 2 == 1:  # XORING idx/ 2**j with 1\n",
    "            ki -= 1\n",
    "        else:\n",
    "            ki += 1\n",
    "\n",
    "        auth += [treehash(secret_seed, ki * 2 ** j, j, public_seed, adrs.copy())]\n",
    "\n",
    "    adrs.set_type(ADRS.WOTS_HASH)\n",
    "    adrs.set_key_pair_address(idx)\n",
    "\n",
    "    sig = wots_sign(m, secret_seed, public_seed, adrs.copy())\n",
    "    sig_xmss = sig + auth\n",
    "    return sig_xmss"
   ]
  },
  {
   "cell_type": "markdown",
   "metadata": {},
   "source": [
    "### Obter Chave Pública através da Assinatura"
   ]
  },
  {
   "cell_type": "code",
   "execution_count": 14,
   "metadata": {},
   "outputs": [],
   "source": [
    "def xmss_pk_from_sig( idx, sig_xmss, m, public_seed, adrs):\n",
    "    \n",
    "    # compute WOTS+ pk from WOTS+ sig\n",
    "    adrs.set_type(ADRS.WOTS_HASH)\n",
    "    adrs.set_key_pair_address(idx)\n",
    "    sig = sig_wots_from_sig_xmss(sig_xmss)\n",
    "    auth = auth_from_sig_xmss(sig_xmss)\n",
    "\n",
    "    node_0 = wots_pk_from_sig(sig, m, public_seed, adrs.copy())\n",
    "    node_1 = 0\n",
    "\n",
    "    # compute root from WOTS+ pk and AUTH\n",
    "    adrs.set_type(ADRS.TREE)\n",
    "    adrs.set_tree_index(idx)\n",
    "    for i in range(0, _h_prime):\n",
    "        adrs.set_tree_height(i + 1)\n",
    "\n",
    "        if math.floor(idx / 2 ** i) % 2 == 0:\n",
    "            adrs.set_tree_index(adrs.get_tree_index() // 2)\n",
    "            node_1 = hash(public_seed, adrs.copy(), node_0 + auth[i], _n)\n",
    "        else:\n",
    "            adrs.set_tree_index((adrs.get_tree_index() - 1) // 2)\n",
    "            node_1 = hash(public_seed, adrs.copy(), auth[i] + node_0, _n)\n",
    "\n",
    "        node_0 = node_1\n",
    "\n",
    "    return node_0"
   ]
  },
  {
   "cell_type": "markdown",
   "metadata": {},
   "source": [
    "## HT\n",
    "\n",
    "A Hypertree HT é uma variante do XMSS, que é essencialmente uma árvore de certificação de instâncias XMSS, ou seja, é no fundo uma árvore de várias camadas de árvores XMSS.\n"
   ]
  },
  {
   "cell_type": "markdown",
   "metadata": {},
   "source": [
    "### Gerar Chave Pública"
   ]
  },
  {
   "cell_type": "code",
   "execution_count": 15,
   "metadata": {},
   "outputs": [],
   "source": [
    "def ht_pk_gen( secret_seed, public_seed):\n",
    "    adrs = ADRS()\n",
    "    adrs.set_layer_address(_d - 1)\n",
    "    adrs.set_tree_address(0)\n",
    "    root = xmss_pk_gen(secret_seed, public_seed, adrs.copy())\n",
    "    return root"
   ]
  },
  {
   "cell_type": "markdown",
   "metadata": {},
   "source": [
    "### Gerar Assinatura\n",
    "\n",
    "O índice identifica uma folha da hypertree que irá ser utilizada para assinar a mensagem. A assinatura consiste numa stack de assinaturas XMSS."
   ]
  },
  {
   "cell_type": "code",
   "execution_count": 16,
   "metadata": {},
   "outputs": [],
   "source": [
    "def ht_sign( m, secret_seed, public_seed, idx_tree, idx_leaf):\n",
    "    # init\n",
    "    adrs = ADRS()\n",
    "    adrs.set_layer_address(0)\n",
    "    adrs.set_tree_address(idx_tree)\n",
    "\n",
    "    # sign\n",
    "    sig_tmp = xmss_sign(m, secret_seed, idx_leaf, public_seed, adrs.copy())\n",
    "    sig_ht = sig_tmp\n",
    "    root = xmss_pk_from_sig(idx_leaf, sig_tmp, m, public_seed, adrs.copy())\n",
    "\n",
    "    for j in range(1, _d):\n",
    "        idx_leaf = idx_tree % 2 ** _h_prime\n",
    "        idx_tree = idx_tree >> _h_prime\n",
    "\n",
    "        adrs.set_layer_address(j)\n",
    "        adrs.set_tree_address(idx_tree)\n",
    "\n",
    "        sig_tmp = xmss_sign(root, secret_seed, idx_leaf, public_seed, adrs.copy())\n",
    "        sig_ht = sig_ht + sig_tmp\n",
    "\n",
    "        if j < _d - 1:\n",
    "            root = xmss_pk_from_sig(idx_leaf, sig_tmp, root, public_seed, adrs.copy())\n",
    "\n",
    "    return sig_ht"
   ]
  },
  {
   "cell_type": "markdown",
   "metadata": {},
   "source": [
    "### Verificar Assinatura"
   ]
  },
  {
   "cell_type": "code",
   "execution_count": 17,
   "metadata": {},
   "outputs": [],
   "source": [
    "def ht_verify( m, sig_ht, public_seed, idx_tree, idx_leaf, public_key_ht):\n",
    "    # init\n",
    "    adrs = ADRS()\n",
    "\n",
    "    # verify\n",
    "    sigs_xmss = sigs_xmss_from_sig_ht(sig_ht)\n",
    "    sig_tmp = sigs_xmss[0]\n",
    "\n",
    "    adrs.set_layer_address(0)\n",
    "    adrs.set_tree_address(idx_tree)\n",
    "    node = xmss_pk_from_sig(idx_leaf, sig_tmp, m, public_seed, adrs)\n",
    "\n",
    "    for j in range(1, _d):\n",
    "        idx_leaf = idx_tree % 2 ** _h_prime\n",
    "        idx_tree = idx_tree >> _h_prime\n",
    "\n",
    "        sig_tmp = sigs_xmss[j]\n",
    "\n",
    "        adrs.set_layer_address(j)\n",
    "        adrs.set_tree_address(idx_tree)\n",
    "\n",
    "        node = xmss_pk_from_sig(idx_leaf, sig_tmp, node, public_seed, adrs)\n",
    "\n",
    "    if node == public_key_ht:\n",
    "        return True\n",
    "    else:\n",
    "        return False"
   ]
  },
  {
   "cell_type": "markdown",
   "metadata": {},
   "source": [
    "# FORS - Forest Of Random Subsets\n",
    "\n",
    "A Hypertree HT não é utilizada para assinar as mensagens mas sim as chaves públicas de instâncias FORS, que são, estas sim, utilizadas para assinar as mensagens.\n",
    "\n",
    "O SPHINCS+ utiliza verificação implicita para FORS, em que utiliza apenas um método para calcular uma chave pública candidata de uma assinatura."
   ]
  },
  {
   "cell_type": "markdown",
   "metadata": {},
   "source": [
    "### Gerar Chave Privada"
   ]
  },
  {
   "cell_type": "code",
   "execution_count": 18,
   "metadata": {},
   "outputs": [],
   "source": [
    "def fors_sk_gen( secret_seed, adrs: ADRS, idx):\n",
    "    adrs.set_tree_height(0)\n",
    "    adrs.set_tree_index(idx)\n",
    "    sk = prf(secret_seed, adrs.copy(), _n)\n",
    "\n",
    "    return sk"
   ]
  },
  {
   "cell_type": "markdown",
   "metadata": {},
   "source": [
    "### ThreeHash"
   ]
  },
  {
   "cell_type": "code",
   "execution_count": 19,
   "metadata": {},
   "outputs": [],
   "source": [
    "def fors_treehash( secret_seed, s, z, public_seed, adrs):\n",
    "    if s % (1 << z) != 0:\n",
    "        return -1\n",
    "\n",
    "    stack = []\n",
    "\n",
    "    for i in range(0, 2 ** z):\n",
    "        adrs.set_tree_height(0)\n",
    "        adrs.set_tree_index(s + i)\n",
    "        sk = prf(secret_seed, adrs.copy(), _n)\n",
    "        node = hash(public_seed, adrs.copy(), sk, _n)\n",
    "\n",
    "        adrs.set_tree_height(1)\n",
    "        adrs.set_tree_index(s + i)\n",
    "        if len(stack) > 0:\n",
    "            while stack[len(stack) - 1]['height'] == adrs.get_tree_height():\n",
    "                adrs.set_tree_index((adrs.get_tree_index() - 1) // 2)\n",
    "                node = hash(public_seed, adrs.copy(), stack.pop()['node'] + node, _n)\n",
    "\n",
    "                adrs.set_tree_height(adrs.get_tree_height() + 1)\n",
    "\n",
    "                if len(stack) <= 0:\n",
    "                    break\n",
    "        stack.append({'node': node, 'height': adrs.get_tree_height()})\n",
    "\n",
    "    return stack.pop()['node']\n"
   ]
  },
  {
   "cell_type": "markdown",
   "metadata": {},
   "source": [
    "### Gerar Chave Pública"
   ]
  },
  {
   "cell_type": "code",
   "execution_count": 20,
   "metadata": {},
   "outputs": [],
   "source": [
    "def fors_pk_gen( secret_seed, public_seed, adrs: ADRS):\n",
    "    \n",
    "    # copy address to create FTS public key address\n",
    "    fors_pk_adrs = adrs.copy()\n",
    "\n",
    "    root = bytes()\n",
    "    for i in range(0, _k):\n",
    "        root += fors_treehash(secret_seed, i * _t, _a, public_seed, adrs)\n",
    "\n",
    "    fors_pk_adrs.set_type(ADRS.FORS_ROOTS)\n",
    "    fors_pk_adrs.set_key_pair_address(adrs.get_key_pair_address())\n",
    "    pk = hash(public_seed, fors_pk_adrs, root, _n)\n",
    "    return pk"
   ]
  },
  {
   "cell_type": "markdown",
   "metadata": {},
   "source": [
    "### Gerar Assinatura"
   ]
  },
  {
   "cell_type": "code",
   "execution_count": 21,
   "metadata": {},
   "outputs": [],
   "source": [
    "def fors_sign( m, secret_seed, public_seed, adrs):\n",
    "    m_int = int.from_bytes(m, 'big')\n",
    "    sig_fors = []\n",
    "\n",
    "    # compute signature elements\n",
    "    for i in range(0, _k):\n",
    "        \n",
    "        # get next index\n",
    "        idx = (m_int >> (_k - 1 - i) * _a) % _t\n",
    "\n",
    "        # pick private key element\n",
    "        adrs.set_tree_height(0)\n",
    "        adrs.set_tree_index(i * _t + idx)\n",
    "        sig_fors += [prf(secret_seed, adrs.copy(), _n)]\n",
    "\n",
    "        auth = []\n",
    "\n",
    "        # compute auth path\n",
    "        for j in range(0, _a):\n",
    "            s = math.floor(idx // 2 ** j)\n",
    "            if s % 2 == 1:  # XORING idx/ 2**j with 1\n",
    "                s -= 1\n",
    "            else:\n",
    "                s += 1\n",
    "\n",
    "            auth += [fors_treehash(secret_seed, i * _t + s * 2 ** j, j, public_seed, adrs.copy())]\n",
    "\n",
    "        sig_fors += auth\n",
    "\n",
    "    return sig_fors"
   ]
  },
  {
   "cell_type": "markdown",
   "metadata": {},
   "source": [
    "### Obter Chave Pública através da Assinatura"
   ]
  },
  {
   "cell_type": "code",
   "execution_count": 22,
   "metadata": {},
   "outputs": [],
   "source": [
    "def fors_pk_from_sig( sig_fors, m, public_seed, adrs: ADRS):\n",
    "    m_int = int.from_bytes(m, 'big')\n",
    "\n",
    "    sigs = auths_from_sig_fors(sig_fors)\n",
    "    root = bytes()\n",
    "\n",
    "    # compute roots\n",
    "    for i in range(0, _k):\n",
    "        \n",
    "        # get next index\n",
    "        idx = (m_int >> (_k - 1 - i) * _a) % _t\n",
    "\n",
    "        # compute leaf\n",
    "        sk = sigs[i][0]\n",
    "        adrs.set_tree_height(0)\n",
    "        adrs.set_tree_index(i * _t + idx)\n",
    "        node_0 = hash(public_seed, adrs.copy(), sk, _n)\n",
    "        node_1 = 0\n",
    "\n",
    "        # compute root from leaf and AUTH\n",
    "        auth = sigs[i][1]\n",
    "        adrs.set_tree_index(i * _t + idx)  # Really Useful?\n",
    "\n",
    "        for j in range(0, _a):\n",
    "            adrs.set_tree_height(j + 1)\n",
    "\n",
    "            if math.floor(idx / 2 ** j) % 2 == 0:\n",
    "                adrs.set_tree_index(adrs.get_tree_index() // 2)\n",
    "                node_1 = hash(public_seed, adrs.copy(), node_0 + auth[j], _n)\n",
    "            else:\n",
    "                adrs.set_tree_index((adrs.get_tree_index() - 1) // 2)\n",
    "                node_1 = hash(public_seed, adrs.copy(), auth[j] + node_0, _n)\n",
    "\n",
    "            node_0 = node_1\n",
    "\n",
    "        root += node_0\n",
    "\n",
    "    # copy address to create FTS public key address\n",
    "    fors_pk_adrs = adrs.copy()\n",
    "    fors_pk_adrs.set_type(ADRS.FORS_ROOTS)\n",
    "    fors_pk_adrs.set_key_pair_address(adrs.get_key_pair_address())\n",
    "\n",
    "    pk = hash(public_seed, fors_pk_adrs, root, _n)\n",
    "    return pk\n"
   ]
  },
  {
   "cell_type": "markdown",
   "metadata": {},
   "source": [
    "# Classe SHPINCS+"
   ]
  },
  {
   "cell_type": "code",
   "execution_count": 23,
   "metadata": {},
   "outputs": [],
   "source": [
    "def sig_wots_from_sig_xmss( sig):\n",
    "    return sig[0:_len_0]\n",
    "\n",
    "def auth_from_sig_xmss( sig):\n",
    "    return sig[_len_0:]\n",
    "\n",
    "def sigs_xmss_from_sig_ht( sig):\n",
    "    sigs = []\n",
    "    for i in range(0, _d):\n",
    "        sigs.append(sig[i * (_h_prime + _len_0):(i + 1) * (_h_prime + _len_0)])\n",
    "\n",
    "    return sigs\n",
    "\n",
    "def auths_from_sig_fors( sig):\n",
    "    sigs = []\n",
    "    for i in range(0, _k):\n",
    "        sigs.append([])\n",
    "        sigs[i].append(sig[(_a + 1) * i])\n",
    "        sigs[i].append(sig[((_a + 1) * i + 1):((_a + 1) * (i + 1))])\n",
    "\n",
    "    return sigs\n"
   ]
  },
  {
   "cell_type": "markdown",
   "metadata": {},
   "source": [
    "### Gerar Chaves\n"
   ]
  },
  {
   "cell_type": "code",
   "execution_count": 24,
   "metadata": {},
   "outputs": [],
   "source": [
    "def gerar_chaves():\n",
    "    \"\"\"\n",
    "    Generate a key pair for sphincs signatures\n",
    "    :return: secret key and public key\n",
    "    \"\"\"\n",
    "    sk, pk = spx_keygen()\n",
    "    sk_0, pk_0 = bytes(), bytes()\n",
    "\n",
    "    for i in sk:\n",
    "        sk_0 += i\n",
    "    for i in pk:\n",
    "        pk_0 += i\n",
    "\n",
    "    return sk_0, pk_0\n",
    "\n",
    "def spx_keygen():\n",
    "    secret_seed = os.urandom(_n)\n",
    "    secret_prf = os.urandom(_n)\n",
    "    public_seed = os.urandom(_n)\n",
    "\n",
    "    public_root = ht_pk_gen(secret_seed, public_seed)\n",
    "\n",
    "    return [secret_seed, secret_prf, public_seed, public_root], [public_seed, public_root]\n"
   ]
  },
  {
   "cell_type": "markdown",
   "metadata": {},
   "source": [
    "### Signature Generation\n",
    "\n",
    "De forma a gerar a assinatura são percorridos quatro passos."
   ]
  },
  {
   "cell_type": "code",
   "execution_count": 25,
   "metadata": {},
   "outputs": [],
   "source": [
    "def sign( m, sk):\n",
    "    \"\"\"\n",
    "    Sign a message with sphincs algorithm\n",
    "    :param m: Message to be signed\n",
    "    :param sk: Secret Key\n",
    "    :return: Signature of m with sk\n",
    "    \"\"\"\n",
    "    sk_tab = []\n",
    "\n",
    "    for i in range(0, 4):\n",
    "        sk_tab.append(sk[(i * _n):((i + 1) * _n)])\n",
    "\n",
    "    sig_tab = spx_sign(m, sk_tab)\n",
    "\n",
    "    sig = sig_tab[0]  # R\n",
    "    for i in sig_tab[1]:  # SIG FORS\n",
    "        sig += i\n",
    "    for i in sig_tab[2]:  # SIG Hypertree\n",
    "        sig += i\n",
    "\n",
    "    return sig\n",
    "\n",
    "def spx_sign( m, secret_key):\n",
    "    # init\n",
    "    adrs = ADRS()\n",
    "    \n",
    "    secret_seed = secret_key[0]\n",
    "    secret_prf = secret_key[1]\n",
    "    public_seed = secret_key[2]\n",
    "    public_root = secret_key[3]\n",
    "    \n",
    "    # generate randomizer\n",
    "    opt = bytes(_n)\n",
    "    if _randomize:\n",
    "        opt = os.urandom(_n)\n",
    "    r = prf_msg(secret_prf, opt, m, _n)\n",
    "    sig = [r]\n",
    "\n",
    "    size_md = math.floor((_k * _a + 7) / 8)\n",
    "    size_idx_tree = math.floor((_h - _h // _d + 7) / 8)\n",
    "    size_idx_leaf = math.floor((_h // _d + 7) / 8)\n",
    "\n",
    "    # compute message digest and index\n",
    "    digest = hash_msg(r, public_seed, public_root, m, size_md + size_idx_tree + size_idx_leaf)\n",
    "    tmp_md = digest[:size_md]\n",
    "    tmp_idx_tree = digest[size_md:(size_md + size_idx_tree)]\n",
    "    tmp_idx_leaf = digest[(size_md + size_idx_tree):len(digest)]\n",
    "\n",
    "    md_int = int.from_bytes(tmp_md, 'big') >> (len(tmp_md) * 8 - _k * _a)\n",
    "    md = md_int.to_bytes(math.ceil(_k * _a / 8), 'big')\n",
    "\n",
    "    idx_tree = int.from_bytes(tmp_idx_tree, 'big') >> (len(tmp_idx_tree) * 8 - (_h - _h // _d))\n",
    "    idx_leaf = int.from_bytes(tmp_idx_leaf, 'big') >> (len(tmp_idx_leaf) * 8 - (_h // _d))\n",
    "\n",
    "    # FORS sign\n",
    "    adrs.set_layer_address(0)\n",
    "    adrs.set_tree_address(idx_tree)\n",
    "    adrs.set_type(ADRS.FORS_TREE)\n",
    "    adrs.set_key_pair_address(idx_leaf)\n",
    "\n",
    "    sig_fors = fors_sign(md, secret_seed, public_seed, adrs.copy())\n",
    "    sig += [sig_fors]\n",
    "\n",
    "    # get FORS public key\n",
    "    pk_fors = fors_pk_from_sig(sig_fors, md, public_seed, adrs.copy())\n",
    "\n",
    "    # sign FORS public key with HT\n",
    "    adrs.set_type(ADRS.TREE)\n",
    "    sig_ht = ht_sign(pk_fors, secret_seed, public_seed, idx_tree, idx_leaf)\n",
    "    sig += [sig_ht]\n",
    "\n",
    "    return sig"
   ]
  },
  {
   "cell_type": "markdown",
   "metadata": {},
   "source": [
    "### Verificar Assinatura"
   ]
  },
  {
   "cell_type": "code",
   "execution_count": 26,
   "metadata": {},
   "outputs": [],
   "source": [
    "def verify( m, sig, pk):\n",
    "    \"\"\"\n",
    "    Check integrity of signature\n",
    "    :param m: Message signed\n",
    "    :param sig: Signature of m\n",
    "    :param pk: Public Key\n",
    "    :return: Boolean True if signature correct\n",
    "    \"\"\"\n",
    "    pk_tab = []\n",
    "\n",
    "    for i in range(0, 2):\n",
    "        pk_tab.append(pk[(i * _n):((i + 1) * _n)])\n",
    "\n",
    "    sig_tab = []\n",
    "\n",
    "    sig_tab += [sig[:_n]]  # R\n",
    "\n",
    "    sig_tab += [[]]  # SIG FORS\n",
    "    for i in range(_n,\n",
    "                   _n + _k * (_a + 1) * _n,\n",
    "                   _n):\n",
    "        sig_tab[1].append(sig[i:(i + _n)])\n",
    "\n",
    "    sig_tab += [[]]  # SIG Hypertree\n",
    "    for i in range(_n + _k * (_a + 1) * _n,\n",
    "                   _n + _k * (_a + 1) * _n + (_h + _d * _len_0) * _n,\n",
    "                   _n):\n",
    "        sig_tab[2].append(sig[i:(i + _n)])\n",
    "\n",
    "    return spx_verify(m, sig_tab, pk_tab)\n",
    "\n",
    "def spx_verify(m, sig, public_key):\n",
    "    # init\n",
    "    adrs = ADRS()\n",
    "    r = sig[0]\n",
    "    sig_fors = sig[1]\n",
    "    sig_ht = sig[2]\n",
    "\n",
    "    public_seed = public_key[0]\n",
    "    public_root = public_key[1]\n",
    "\n",
    "    size_md = math.floor((_k * _a + 7) / 8)\n",
    "    size_idx_tree = math.floor((_h - _h // _d + 7) / 8)\n",
    "    size_idx_leaf = math.floor((_h // _d + 7) / 8)\n",
    "\n",
    "    # compute message digest and index\n",
    "    digest = hash_msg(r, public_seed, public_root, m, size_md + size_idx_tree + size_idx_leaf)\n",
    "    tmp_md = digest[:size_md]\n",
    "    tmp_idx_tree = digest[size_md:(size_md + size_idx_tree)]\n",
    "    tmp_idx_leaf = digest[(size_md + size_idx_tree):len(digest)]\n",
    "\n",
    "    md_int = int.from_bytes(tmp_md, 'big') >> (len(tmp_md) * 8 - _k * _a)\n",
    "    md = md_int.to_bytes(math.ceil(_k * _a / 8), 'big')\n",
    "\n",
    "    idx_tree = int.from_bytes(tmp_idx_tree, 'big') >> (len(tmp_idx_tree) * 8 - (_h - _h // _d))\n",
    "    idx_leaf = int.from_bytes(tmp_idx_leaf, 'big') >> (len(tmp_idx_leaf) * 8 - (_h // _d))\n",
    "\n",
    "    # compute FORS public key\n",
    "    adrs.set_layer_address(0)\n",
    "    adrs.set_tree_address(idx_tree)\n",
    "    adrs.set_type(ADRS.FORS_TREE)\n",
    "    adrs.set_key_pair_address(idx_leaf)\n",
    "\n",
    "    pk_fors = fors_pk_from_sig(sig_fors, md, public_seed, adrs)\n",
    "\n",
    "    # verify HT signature\n",
    "    adrs.set_type(ADRS.TREE)\n",
    "    return ht_verify(pk_fors, sig_ht, public_seed, idx_tree, idx_leaf, public_root)"
   ]
  },
  {
   "cell_type": "markdown",
   "metadata": {},
   "source": [
    "# TESTE"
   ]
  },
  {
   "cell_type": "code",
   "execution_count": 29,
   "metadata": {},
   "outputs": [
    {
     "name": "stdout",
     "output_type": "stream",
     "text": [
      "True\n"
     ]
    }
   ],
   "source": [
    "set_W(4)\n",
    "\n",
    "sk, pk = gerar_chaves()\n",
    "\n",
    "mensagem = b'EstruturasCriptograficas'\n",
    "assinatura = sign(mensagem, sk)\n",
    "\n",
    "resultado = verify(mensagem, assinatura, pk)\n",
    "print(resultado)\n"
   ]
  }
 ],
 "metadata": {
  "kernelspec": {
   "display_name": "Python 3",
   "language": "python",
   "name": "python3"
  },
  "language_info": {
   "codemirror_mode": {
    "name": "ipython",
    "version": 3
   },
   "file_extension": ".py",
   "mimetype": "text/x-python",
   "name": "python",
   "nbconvert_exporter": "python",
   "pygments_lexer": "ipython3",
   "version": "3.8.1"
  }
 },
 "nbformat": 4,
 "nbformat_minor": 2
}
