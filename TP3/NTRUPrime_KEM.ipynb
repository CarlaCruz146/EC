{
 "cells": [
  {
   "cell_type": "markdown",
   "metadata": {},
   "source": [
    "# TP2 : Implementação do esquema KEM - NTRU-Prime\n",
    "\n",
    "### Gerar Parâmetros\n",
    "\n",
    "Foi necessário gerar os parâmetros p, q e w sendo p e q primos e w é um inteiro positivo. A nossa classe recebe este w e gera os outros a partir deste. Os parâmetros têm de satisfazer: \n",
    "* 2p > 3w\n",
    "* q > 16w + 1 \n",
    "* x^p -x -1 é irredutível no anel dos polinómios Z/q[x]\n",
    "\n",
    "### Key Gen\n",
    "\n",
    "* Foi necessário gerar um elemento pequeno do anel R - g\n",
    "  * Repetiu-se o processo que gera g até ser invertível em R/3\n",
    "* Foi gerado um elemento aleatório f pequeno de peso w em R \n",
    "* Calculamos o quociente de g por 3* f em R/q, obtendo a Public Key\n",
    "* Como sk, criamos o tuplo, f em R e a inversa de g em R/3\n",
    "\n",
    "### Encapsulation\n",
    "\n",
    "* Geramos um elemento aleatório r pequeno com peso w em R e depois foi calculado o Hash deste r\n",
    "* Com este Hash obtemos a confirmation C e a sessionkey K\n",
    "* Calculamos h*r, sendo h a public key e fazemos o round_3 do obtido\n",
    "* Retornamos por fim a nossa confirmation C e o nosso ciph\n",
    "\n",
    "\n",
    "### Desencapsulation\n",
    "* Recebemos o cstr e reparamos este no tuplo respetivo C, ciph\n",
    "* Através da sk é possível ter acesso a f e à inversa de g\n",
    "* Posto isto, é necessário multiplicar 3f in R/q e por 1/g in R/3\n",
    "* Depois, arrendondamos os coeficientes como inteiros entre -(q-1)/2 e (q-1)/2 e reduzir módulo 3, obtemos o polinómio em R/3\n",
    "* Calculamos a Hash deste t obtido\n",
    "* Com a operação seguinte ficamos com R3_to_small deste t\n",
    "* Convertemos ainda aquilo que obtemos no passo acima para um polinómio pequeno r' em R.\n",
    "* Fizemos o compute como no encapsulation\n",
    "* Por fim, verificamos que os peso e o obtido é igual.\n",
    "* Retornamos K1, caso contrário retornamos Falso."
   ]
  },
  {
   "cell_type": "code",
   "execution_count": 50,
   "metadata": {},
   "outputs": [],
   "source": [
    "import hashlib\n",
    "import random as rn\n",
    "from random import choice, randint\n",
    "\n",
    "class NTRU_Prime():\n",
    "    \n",
    "    def __init__(self,w):\n",
    "        #único parâmetro que inicializa a classe e tem de ser um inteiro positivo\n",
    "        self.w=w \n",
    "        \n",
    "        #q > 16w + 1;\n",
    "        q=17*self.w\n",
    "        while True:\n",
    "            if (1+q).is_prime():\n",
    "                break\n",
    "            else:\n",
    "                q += 1 \n",
    "        q=q+1\n",
    "        \n",
    "        Zx.<x>  = ZZ[]\n",
    "        Zq.<z>  = PolynomialRing(GF(q))\n",
    "    \n",
    "        # 2p >= 3w\n",
    "        p = next_prime(2*self.w)\n",
    "        while True:\n",
    "            if  Zq(x^p-x-1).is_irreducible():\n",
    "                break\n",
    "            else:\n",
    "                p = next_prime(p+1)\n",
    "        self.p=p\n",
    "        self.q=q\n",
    "        \n",
    "    def small_poly(self,p,t=None):\n",
    "        \"\"\"\n",
    "        polinómios cujos coeficientes são -1, 0, 1\n",
    "        \"\"\"\n",
    "        Zx.<x>  = ZZ[]\n",
    "        if not t:\n",
    "            return Zx([choice([-1,0,1]) for k in range(p)])\n",
    "        \n",
    "        u = [rn.choice([-1,1]) for i in range(t)] + [0]*(p-t)\n",
    "        rn.shuffle(u)\n",
    "        return Zx(u)\n",
    "\n",
    "    def Hash(self,m): #função para calcular o hash de um objecto\n",
    "        ww = reduce(lambda x,y: x + y.binary(), m.list() , \"\")\n",
    "        return hashlib.sha512(ww.encode('utf-8')).hexdigest()\n",
    "    \n",
    "    def round_3(self,t):\n",
    "        Zx.<x>  = ZZ[]\n",
    "        def f(x):\n",
    "            return ((x/3).round())*3\n",
    "        r = self.q//2\n",
    "        t1 = list(map(lambda x: f(lift(x+r) - r) , t.list()))\n",
    "        return  Zx(t1)\n",
    "    \n",
    "    def round_(self,t,n=-112321):\n",
    "        if n==-112321:\n",
    "            n=self.q\n",
    "        Zx.<x>  = ZZ[]\n",
    "        \"\"\"\n",
    "            input:  polinómio em Gqr ou Z3r\n",
    "            output: transpõe os coeficientes para o intervalo -n//2..+n//2\n",
    "        \"\"\"\n",
    "        r = n//2\n",
    "        t1 = list(map(lambda x: lift(x + r) - r , t.list()))\n",
    "        return Zx(t1)\n",
    "    \n",
    "    \n",
    "\n",
    "    def keygen(self):\n",
    "        Zx.<x>  = ZZ[]\n",
    "        Z3.<y>  = PolynomialRing(GF(3))        \n",
    "        Zq.<z>  = PolynomialRing(GF(self.q))\n",
    "        R.<x> = Zx.quotient(x^self.p-x-1)   \n",
    "        R3.<y> = Z3.quotient(y^self.p-y-1)\n",
    "        Rq.<z> = Zq.quotient(z^self.p-z-1)\n",
    "        \n",
    "        g = self.small_poly(self.p)\n",
    "        # enquanto R3(g) não for invertível, geramos novo g.\n",
    "        while not R3(g).is_unit():  \n",
    "            g = self.small_poly(self.p)\n",
    "\n",
    "        inv_g = R3(g)^(-1)    \n",
    "        f = self.small_poly(self.p,self.w)\n",
    "        \n",
    "        self.sk = (f , inv_g)\n",
    "        self.pk = Rq(g)/Rq(3*f) \n",
    "        \n",
    "        return self.pk, self.sk\n",
    "    \n",
    "    \n",
    "    def weights(self, vec):\n",
    "        c = 0\n",
    "        for i in range(len(vec)):\n",
    "            if (vec[i] != 0): \n",
    "                c = c+1\n",
    "        return c\n",
    "\n",
    "    def R3_to_small(self,inp):\n",
    "        def f(u):\n",
    "            return u if u < 2 else -1\n",
    "        return [f(u) for u in inp]\n",
    "    \n",
    "    \n",
    "    def encapsulation(self):      \n",
    "        Zx.<x>  = ZZ[]\n",
    "        Z3.<y>  = PolynomialRing(GF(3))        \n",
    "        Zq.<z>  = PolynomialRing(GF(self.q))\n",
    "        R.<x> = Zx.quotient(x^self.p-x-1)   \n",
    "        R3.<y> = Z3.quotient(y^self.p-y-1)\n",
    "        Rq.<z> = Zq.quotient(z^self.p-z-1)\n",
    "        r = self.small_poly(self.p,self.w)\n",
    "        key = self.Hash(r)\n",
    "        r_ = self.R3_to_small(r)\n",
    "        print(r_)\n",
    "        # confirmation\n",
    "        C = key[:32]\n",
    "        # session\n",
    "        K = key[32:]\n",
    "        ciph   = self.round_3(Rq(r)*self.pk)\n",
    "        return C,ciph\n",
    "    \n",
    "    def desencapsulation(self,cstr):\n",
    "        Zx.<x>  = ZZ[]\n",
    "        Z3.<y>  = PolynomialRing(GF(3))        \n",
    "        Zq.<z>  = PolynomialRing(GF(self.q))\n",
    "        R.<x> = Zx.quotient(x^self.p-x-1)   \n",
    "        R3.<y> = Z3.quotient(y^self.p-y-1)\n",
    "        Rq.<z> = Zq.quotient(z^self.p-z-1)\n",
    "        C,ciph = cstr\n",
    "        (f , inv_g) = self.sk\n",
    "        \n",
    "        #Multiplicar 3f in R/q e por 1/g in R/3\n",
    "        e = inv_g * R3(self.round_(Rq(3*f) * Rq(ciph))) ;   \n",
    "        t = self.round_(e,n=3);\n",
    "        \n",
    "        key = self.Hash(t)\n",
    "        r_ = self.R3_to_small(t)\n",
    "        print(r_)\n",
    "        \n",
    "        # confirmation\n",
    "        C1 = key[:32]\n",
    "        # session\n",
    "        K1 = key[32:]\n",
    "        ciph1 = self.round_3(Rq(t)*self.pk)\n",
    "        \n",
    "        if self.weights(r_) == self.w or not all([a in [-1,0,1] for a in r_]): \n",
    "            print(\"True\")\n",
    "        else: return False\n",
    "        if C1 == C : \n",
    "            print(\"True\")\n",
    "        else: return False\n",
    "        if ciph1 == ciph : \n",
    "            print(\"True\")\n",
    "        else: return False\n",
    "\n",
    "        return K1"
   ]
  },
  {
   "cell_type": "code",
   "execution_count": 51,
   "metadata": {},
   "outputs": [],
   "source": [
    "A=NTRU_Prime(8)"
   ]
  },
  {
   "cell_type": "code",
   "execution_count": 52,
   "metadata": {},
   "outputs": [
    {
     "data": {
      "text/plain": [
       "(137, 137, 8)"
      ]
     },
     "execution_count": 52,
     "metadata": {},
     "output_type": "execute_result"
    }
   ],
   "source": [
    "A.p,A.q,A.w"
   ]
  },
  {
   "cell_type": "code",
   "execution_count": 53,
   "metadata": {},
   "outputs": [],
   "source": [
    "pk, sk = A.keygen()"
   ]
  },
  {
   "cell_type": "code",
   "execution_count": 54,
   "metadata": {},
   "outputs": [
    {
     "name": "stdout",
     "output_type": "stream",
     "text": [
      "[0, 1, 0, 0, 0, 0, 0, 0, 0, 0, 0, 0, 0, 0, 0, 0, 0, 0, 0, 0, 0, 0, 0, 0, 0, 0, 0, 0, 0, 0, 0, 0, 0, 0, 0, 0, 0, 0, 0, 0, 0, 0, 0, 0, 0, 0, 0, 0, 0, 0, 0, 0, 0, -1, 0, 0, 0, 1, 0, 0, 1, 0, 0, 0, 0, 0, 0, 0, 0, 0, 0, 0, 0, 0, 0, 0, 0, 0, 0, 0, -1, 0, 0, 0, 0, 0, 0, 0, 0, 0, 1, 0, 0, 0, 0, 0, 0, 0, 0, 0, 0, 0, 0, 0, 0, 0, 0, 0, 0, 0, 0, 0, 0, 0, 0, 0, 0, 0, 0, -1, 0, 0, 0, -1]\n"
     ]
    }
   ],
   "source": [
    "test = A.encapsulation()"
   ]
  },
  {
   "cell_type": "code",
   "execution_count": 55,
   "metadata": {},
   "outputs": [
    {
     "name": "stdout",
     "output_type": "stream",
     "text": [
      "[0, 1, 0, 0, 0, 0, 0, 0, 0, 0, 0, 0, 0, 0, 0, 0, 0, 0, 0, 0, 0, 0, 0, 0, 0, 0, 0, 0, 0, 0, 0, 0, 0, 0, 0, 0, 0, 0, 0, 0, 0, 0, 0, 0, 0, 0, 0, 0, 0, 0, 0, 0, 0, -1, 0, 0, 0, 1, 0, 0, 1, 0, 0, 0, 0, 0, 0, 0, 0, 0, 0, 0, 0, 0, 0, 0, 0, 0, 0, 0, -1, 0, 0, 0, 0, 0, 0, 0, 0, 0, 1, 0, 0, 0, 0, 0, 0, 0, 0, 0, 0, 0, 0, 0, 0, 0, 0, 0, 0, 0, 0, 0, 0, 0, 0, 0, 0, 0, 0, -1, 0, 0, 0, -1]\n",
      "True\n",
      "True\n",
      "True\n"
     ]
    },
    {
     "data": {
      "text/plain": [
       "'e754da312c4c6f680920ea7379c4074abe72b56cce82f51e9e9952f48f1c40639f82d5d0ee23ffb5eed8a8904256a467'"
      ]
     },
     "execution_count": 55,
     "metadata": {},
     "output_type": "execute_result"
    }
   ],
   "source": [
    "A.desencapsulation(test)"
   ]
  },
  {
   "cell_type": "code",
   "execution_count": null,
   "metadata": {},
   "outputs": [],
   "source": []
  },
  {
   "cell_type": "code",
   "execution_count": null,
   "metadata": {},
   "outputs": [],
   "source": []
  }
 ],
 "metadata": {
  "kernelspec": {
   "display_name": "SageMath 9.0",
   "language": "sage",
   "name": "sagemath"
  },
  "language_info": {
   "codemirror_mode": {
    "name": "ipython",
    "version": 3
   },
   "file_extension": ".py",
   "mimetype": "text/x-python",
   "name": "python",
   "nbconvert_exporter": "python",
   "pygments_lexer": "ipython3",
   "version": "3.7.3"
  }
 },
 "nbformat": 4,
 "nbformat_minor": 4
}
