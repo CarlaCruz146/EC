{
 "cells": [
  {
   "cell_type": "markdown",
   "metadata": {},
   "source": [
    "<b> Exercício 2 - Comunicação privada assíncrona </b>\n",
    "\n",
    "Nesta fase do trabalho criou-se uma comunicação privada assíncrona entre um agente _Emitter_ e um agente _Receiver_."
   ]
  },
  {
   "cell_type": "markdown",
   "metadata": {},
   "source": [
    "### Definições \n",
    "\n",
    "#### `class BiConn`\n",
    "\n",
    "A classe BiConn serve para a criação dos dois processos necessários que permite a comunicação entre os dois agentes, mais concretamente a função \"Pipe\" . Recebemos como argumentos os processos que irão estar relacionados em que um dos lados envia a mensagem pretendida e fecha a ligação, e do outro lado é recebida a mensagem, e a ligação é fechada também."
   ]
  },
  {
   "cell_type": "code",
   "execution_count": 5,
   "metadata": {},
   "outputs": [],
   "source": [
    "from multiprocessing import Process, Pipe\n",
    "class BiConn(object):\n",
    "    def __init__(self,left,right,timeout=None):\n",
    "        \"\"\"\n",
    "        left : a função que vai ligar ao lado esquerdo do Pipe\n",
    "        right: a função que vai ligar ao outro lado\n",
    "        timeout: (opcional) numero de segundos que aguarda pela terminação do processo\n",
    "        \"\"\"\n",
    "        left_end, right_end = Pipe()\n",
    "        self.timeout=timeout\n",
    "        self.lproc = Process(target=left, args=(left_end,))       # os processos ligados ao Pipe\n",
    "        self.rproc = Process(target=right, args=(right_end,))\n",
    "        self.left  = lambda : left(left_end)                       # as funções ligadas já ao Pipe\n",
    "        self.right = lambda : right(right_end)\n",
    "    \n",
    "    def auto(self, proc=None):\n",
    "        if proc == None:             # corre os dois processos independentes\n",
    "            self.lproc.start()\n",
    "            self.rproc.start()  \n",
    "            self.lproc.join(self.timeout)\n",
    "            self.lproc.join(self.timeout)\n",
    "        else:                        # corre só o processo passado como parâmetro\n",
    "            proc.start(); proc.join()\n",
    "    \n",
    "    def manual(self):   #  corre as duas funções no contexto de um mesmo processo Python\n",
    "        self.left()\n",
    "        self.right()\n"
   ]
  },
  {
   "cell_type": "markdown",
   "metadata": {},
   "source": [
    "#### PBKDF \n",
    "As Password Based Key Derivation Functions têm dois principais objetivos:\n",
    " - Permite a utilização de passwords de modo a que sejam memorizáveis pelos humanos.\n",
    " - Resistência a ataques por força bruta, uma vez que introduzem complexidade computacional artificial, aumentando o tempo necessário para cada tentativa.\n",
    "\n",
    "Tanto o Emitter como o Receiver devem conhecer a _password_ para gerar a chave e de forma a introduzir aleatoriedade adicional foi gerado pseudo-aleatoriamente um `salt`<sup>1</sup> que deve ser do conhecimento de ambos os agentes.\n",
    "\n",
    "#### Cifra\n",
    "Um dos requisitos do enunciado era usar uma cifra simétrica de stream. Para tal e algo que foi previamente estudado, decidimos optar pelo ChaCha20. Foi necessário garantir a aleatoriedade dos criptogramas e para tal utilizamos um `nonce`<sup>1</sup> gerado pseudo-aleatoriamente. Assim, tendo o nonce ter sido acordado previamente entre os dois agentes, as funções `cifra` e `decifra` cifram uma mensagem e decifraram um criptograma respetivamente.\n",
    "\n",
    "#### HMAC\n",
    "Um HMAC é um código que se adiciona ao final de uma mensagem para proteger a integridade da mesma, garantindo que ela foi recebida pelo destinatário sem alterações acidentais. O algoritmo de Hash escolhido foi o SHA256. É utilizado o HMAC para garantir a integridade da chave como também dos dados e metadados. \n",
    "\n",
    "**Notas:**\n",
    "\n",
    "1 - Os números pseudo-aleatórios foram gerados usando a função `urandom` da package `os`"
   ]
  },
  {
   "cell_type": "code",
   "execution_count": 6,
   "metadata": {
    "scrolled": true
   },
   "outputs": [],
   "source": [
    "from cryptography.hazmat.primitives.ciphers.algorithms import ChaCha20\n",
    "from cryptography.hazmat.primitives.ciphers import Cipher, algorithms, modes\n",
    "from cryptography.hazmat.primitives.kdf.pbkdf2 import PBKDF2HMAC\n",
    "from cryptography.hazmat.backends import default_backend\n",
    "from cryptography.hazmat.primitives import hashes, hmac\n",
    "from getpass import getpass\n",
    "from os import urandom\n",
    "from datetime import date\n",
    "\n",
    "nonce = urandom(16)\n",
    "salt = urandom(16)\n",
    "\n",
    "def kdf(salt):\n",
    "    return PBKDF2HMAC(\n",
    "                algorithm=hashes.SHA256,\n",
    "                length=32,\n",
    "                salt=salt,\n",
    "                iterations=100000,\n",
    "                backend=default_backend()\n",
    "               )\n",
    "\n",
    "def cifra(key, msg):\n",
    "    c = Cipher(algorithms.ChaCha20(key, nonce), mode=None, backend=default_backend())\n",
    "    enc = c.encryptor()\n",
    "    return enc.update(msg)\n",
    "\n",
    "\n",
    "def decifra(key, nonce, cypher_text):\n",
    "    c = Cipher(algorithms.ChaCha20(key, nonce), mode=None, backend=default_backend())\n",
    "    dec = c.decryptor()\n",
    "    return dec.update(cypher_text)\n",
    "\n",
    "\n",
    "def mac(key, source, tag=None):\n",
    "    h = hmac.HMAC(key, hashes.SHA256(), default_backend())\n",
    "    h.update(source)\n",
    "    if tag == None:\n",
    "        return h.finalize()\n",
    "    h.verify(tag)"
   ]
  },
  {
   "cell_type": "markdown",
   "metadata": {},
   "source": [
    "### Agentes da comunicação\n",
    "\n",
    "Os agentes devem partilhar uma _password_ a qual será usada para gerar a chave da cifra e para gerar/validar o HMAC. \n",
    "\n",
    "Primeiramente, é necessário fazer uma autenticação prévia da chave.Para isso, o `Emitter`, gera a chave a partir da password, e depois gera o HMAC da mesma que é enviada ao `Receiver` juntamente com a mensagem cifrada. Quando é recebida a mensagem,o `Receiver`,também gera a chave a partir de uma password e valida o HMAC da mesma. A mensagem só é decifrada se correr tudo bem com a autenticação da chave.\n",
    "\n",
    "Depois de cifrar a mensagem o `Emitter` ,adiciona aos metadados da mensagem a data e a hora em que a mesma foi gerada. \n",
    "\n",
    "Visto que é pedido a autenticação do criptograma e dos metadados, o HMAC é calculado de formas diferentes consoante o lado(Emmiter ou Receiver) em que estejamos. No lado do `Emitter` o HMAC é calculado sobre o criptograma concatenado com o HMAC da chave e respetiva data. Deste modo, apesar de os metadados serem enviados sem confidencialidade, é garantida a sua integridade. Após autenticar a chave, no lado do `Receiver`, valida o HMAC dos metadados concatenados com o criptograma e caso corra tudo bem, o criptograma é decifrado."
   ]
  },
  {
   "cell_type": "code",
   "execution_count": 4,
   "metadata": {},
   "outputs": [
    {
     "name": "stdout",
     "output_type": "stream",
     "text": [
      "Password do Emmiter:········\n",
      "Que mensagem pretende enviar?\n",
      "Mensagem que quero enviar\n",
      "Password do Receiver:········\n",
      "Sucess\n",
      "Mensagem Recebida:\n",
      "b'Mensagem que quero enviar'\n"
     ]
    }
   ],
   "source": [
    "def Emitter(conn):\n",
    "    password = bytes(getpass('Password do Emmiter:'), 'utf-8')\n",
    "\n",
    "    key = kdf(salt).derive(password)\n",
    "    mac_key = mac(key, key)\n",
    "\n",
    "    msg = input('Que mensagem pretende enviar?\\n')\n",
    "    msg_bytes = bytes(msg,'utf-8')    \n",
    "    cipher_text = cifra(key, msg_bytes)\n",
    "    \n",
    "    data = bytes(str(date.today()), 'utf-8')\n",
    "    tag = mac(key, mac_key + data + cipher_text)\n",
    "    obj = {'mac_key': mac_key, 'data' : data, 'tag' : tag, 'msg' : cipher_text}\n",
    "    conn.send(obj)\n",
    "\n",
    "    conn.close()\n",
    "\n",
    "\n",
    "def Receiver(conn):\n",
    "    obj = conn.recv()\n",
    "    mac_key = obj['mac_key']\n",
    "    data = obj['data']\n",
    "    tag = obj['tag']\n",
    "    cipher_text = obj['msg']\n",
    "\n",
    "    try:\n",
    "        password = bytes(getpass('Password do Receiver:'), 'utf-8')\n",
    "        key = kdf(salt).derive(password)\n",
    "        mac(key, key, mac_key)\n",
    "        try:\n",
    "            mac(key, mac_key + data + cipher_text, tag)\n",
    "            print('Sucess')\n",
    "            msg = decifra(key,nonce,cipher_text)\n",
    "            print('Mensagem Recebida:')\n",
    "            print(msg)\n",
    "        except:\n",
    "            print('FAIL')\n",
    "    except:\n",
    "        print('Key errada')\n",
    "    finally:\n",
    "        conn.close()\n",
    "\n",
    "BiConn(Emitter,Receiver).manual()"
   ]
  }
 ],
 "metadata": {
  "kernelspec": {
   "display_name": "Python 3",
   "language": "python",
   "name": "python3"
  },
  "language_info": {
   "codemirror_mode": {
    "name": "ipython",
    "version": 3
   },
   "file_extension": ".py",
   "mimetype": "text/x-python",
   "name": "python",
   "nbconvert_exporter": "python",
   "pygments_lexer": "ipython3",
   "version": "3.8.1"
  }
 },
 "nbformat": 4,
 "nbformat_minor": 2
}
