{
 "cells": [
  {
   "cell_type": "markdown",
   "metadata": {},
   "source": [
    "# TP2 : Implementação do RSA - OAEP\n"
   ]
  },
  {
   "cell_type": "markdown",
   "metadata": {},
   "source": [
    "## Função auxiliar\n",
    "\n",
    "Foi utilizada uma função auxiliar para gerar um número primo dado o seu tamanho, retornando \n",
    "o primo com o respetivo tamanho indicado."
   ]
  },
  {
   "cell_type": "code",
   "execution_count": 1,
   "metadata": {},
   "outputs": [],
   "source": [
    "def rprime(l):\n",
    "    \"\"\"\n",
    "    Gera um número primo\n",
    "    Argumentos: \n",
    "        - l - tamanho do primo\n",
    "    Valor de retorno: primo com o tamanho indicado\n",
    "    \"\"\"\n",
    "    return random_prime(2**l-1,True,2**(l-1))"
   ]
  },
  {
   "cell_type": "markdown",
   "metadata": {},
   "source": [
    "## Definição do problema\n",
    "### Alinea a)"
   ]
  },
  {
   "cell_type": "markdown",
   "metadata": {},
   "source": [
    "Para a parte inicial da primeira parte, tinhamos como objetivo implementar um esquema RSA - OAEP em que recebe como parâmetro de entrada um número de bits do módulo que irá ser utilizado para gerar as chaves pública e privada respetivamente."
   ]
  },
  {
   "cell_type": "markdown",
   "metadata": {},
   "source": [
    "### Alinea b)"
   ]
  },
  {
   "cell_type": "markdown",
   "metadata": {},
   "source": [
    "OAEP - Optimal Asymmetric Encryption Padding - é um esquema de preenchimento frequentemente usado em conjunto com a criptografia RSA. Este algoritmo usa um par de oráculos aleatórios G e H para processar o texto sem formatação antes da criptografia assimétrica.\n",
    "\n",
    "OAEP satisfaz os seguintes objetivos:\n",
    "\n",
    "- Adiciona um elemento aleatório que possa ser usado para converter um esquema criptográfico determinístico (por exemplo, RSA tradicional) num esquema criptográfico probabilístico.\n",
    "    \n",
    "- Evita a descriptografia parcial de textos cifrados (ou outro vazamento de informações), garantindo que um adversário não pode recuperar nenhuma parte do texto simples."
   ]
  },
  {
   "cell_type": "markdown",
   "metadata": {},
   "source": [
    "### Alinea c)\n",
    "\n",
    "\n",
    "Fujisaki-Okamoto apresentaram uma abordagem para transformar PKE's que fossem IND-CCA seguros noutros PKE's que fossem IND-CCA seguros. Este processo aumenta muito a complexidade espacial pois são criados criptogramas maiores para o mesmo parâmetro.\n",
    "\n",
    "Esta transformação FOT segue o princípio de separar a geração e aleatoriedade do núcleo determinístico do algoritmo. O algoritmo determinístico é o porquê deste IND-CCA ser seguro.\n",
    "\n",
    "É possível dizer que se a 1ª versão do PKE for IND-CPA seguro e se o OWN (\"One Way Compressor\") for um hash seguro, então a 2ª versão do PKE é um IND-CCA seguro.\n",
    "Desta forma, assumindo que tanto o KEM como o OWN são seguros, podemos escolher entre ter um PKE mais eficiente mas com segurança mais fraca (IND-CPA) ou ter um PKE menos eficiente mas mais seguro (IND-CCA)."
   ]
  },
  {
   "cell_type": "code",
   "execution_count": 2,
   "metadata": {},
   "outputs": [],
   "source": [
    "import random\n",
    "import string\n",
    "import hashlib\n",
    "\n",
    "class RSA_OAEP:\n",
    "    def __init__(self,nbits):\n",
    "        self.nbits=int(nbits)\n",
    "        \n",
    "    def keygen(self):\n",
    "        p=rprime(int(self.nbits/2) +1)\n",
    "        q=rprime(int(self.nbits/2))\n",
    "        while p<=2*q:\n",
    "            p=rprime(int(self.nbits/2) +1)\n",
    "            q=rprime(int(self.nbits/2))\n",
    "        n=p*q #parâmetro n\n",
    "        phin=(p-1)*(q-1) #Cálculo de phi de n para primos\n",
    "        e=randint(2,phin)\n",
    "        while gcd(phin,e)!=1:\n",
    "            e=randint(2,phin) #e tem de ser tal que exista inverso módulo phi de n\n",
    "        d=power_mod(e,-1,phin) #inverso de e\n",
    "        PubKey=(n,e)\n",
    "        PrivKey=d\n",
    "        return PubKey,PrivKey\n",
    "    \n",
    "    def xor(self, data, mask):\n",
    "        masked = b''\n",
    "        ldata = len(data)\n",
    "        lmask = len(mask)\n",
    "        for i in range(max(ldata, lmask)):\n",
    "            if i < ldata and i < lmask:\n",
    "                masked += (data[i] ^^ mask[i]).to_bytes(1, byteorder='big')\n",
    "            elif i < ldata:\n",
    "                masked += data[i].to_bytes(1, byteorder='big')\n",
    "            else:\n",
    "                break\n",
    "        return masked\n",
    "    \n",
    "    def encrypt(self, message, public_k, label):\n",
    "        l= label.encode('utf-8')\n",
    "        a =  hashlib.sha256(l).hexdigest()\n",
    "        nm = str(a+message)            \n",
    "        nm = nm.encode('utf-8')\n",
    "        k = int(hashlib.sha256(nm).hexdigest(),16)\n",
    "        (n,e) = public_k\n",
    "        enc = power_mod(k , e, n)\n",
    "        x = k.to_bytes(len(nm), byteorder='big')\n",
    "        encf = self.xor(x,nm)\n",
    "        return (enc,encf)\n",
    "    \n",
    "    def decrypt(self, ctxt, private_k, public_k, label):\n",
    "        enc, encf = ctxt\n",
    "        (n,e) = public_k\n",
    "        k = power_mod(enc, private_k, n)\n",
    "        m = int (k).to_bytes(len(encf), byteorder='big')\n",
    "        txt = self.xor (m, encf)\n",
    "        l= label.encode('utf-8')\n",
    "        size = len (hashlib.sha256(l).hexdigest())\n",
    "        a, message = txt[:size], txt[size:]\n",
    "        msg = message.decode('ascii')\n",
    "        if ctxt == self.encrypt(msg, public_k, label):\n",
    "            return message.decode('ascii')\n",
    "        else: return false\n",
    "\n"
   ]
  },
  {
   "cell_type": "code",
   "execution_count": 3,
   "metadata": {},
   "outputs": [
    {
     "name": "stdout",
     "output_type": "stream",
     "text": [
      "Mensagem: Ola mundo\n",
      "CipherText: (1643718922565352104383403106865898091983261704864042424041212196720238784460826478557007264543821055867353666104125060936361276392011644737128563215093572, b'898f73a20b73f9963b6f7fde394930c3fd8657fbd#\\xc121\\x05m\\x9f\\xcd\\xf0\\xe3\\x83\\x9c_\\xd5\\xcc\\x9e\\x0etz.H1\\xb428\\xa0\\xd2\\xc5X\\x86\\xd7S')\n",
      "Message: Ola mundo\n"
     ]
    }
   ],
   "source": [
    "rsa_oaep = RSA_OAEP(512)\n",
    "Pub,Priv=rsa_oaep.keygen()\n",
    "msg = \"Ola mundo\" \n",
    "label= \"EstCripto\"\n",
    "print (\"Mensagem:\", msg)\n",
    "\n",
    "#para cifrar uma mensagem usa-se a chave pública do RSA\n",
    "ctxt = rsa_oaep.encrypt(msg,Pub,label)\n",
    "print (\"CipherText:\", ctxt)\n",
    "\n",
    "txt = rsa_oaep.decrypt(ctxt,Priv, Pub, label)\n",
    "print (\"Message:\", txt)"
   ]
  }
 ],
 "metadata": {
  "kernelspec": {
   "display_name": "SageMath 9.0",
   "language": "sage",
   "name": "sagemath"
  },
  "language_info": {
   "codemirror_mode": {
    "name": "ipython",
    "version": 3
   },
   "file_extension": ".py",
   "mimetype": "text/x-python",
   "name": "python",
   "nbconvert_exporter": "python",
   "pygments_lexer": "ipython3",
   "version": "3.7.3"
  }
 },
 "nbformat": 4,
 "nbformat_minor": 4
}
