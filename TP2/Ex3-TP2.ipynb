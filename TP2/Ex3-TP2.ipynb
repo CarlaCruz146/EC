{
 "cells": [
  {
   "cell_type": "markdown",
   "metadata": {},
   "source": [
    "# TP2 : Construir uma classe Python que implemente o ECDSA usando uma das curvas elípticas primas definidas no FIPS186-4 "
   ]
  },
  {
   "cell_type": "markdown",
   "metadata": {},
   "source": [
    "A alinea 3 do segundo trabalho prático pretende que se implemente um mecanismo de assinatura digital, recorrendo\n",
    "para isso às curvas elíticas. São oferecidas curvas para criptografia de 192, 224, 256, 384 e 521 bits definida no \n",
    "**FIPS186-4** cuja forma é E : y^2 = x^3 - 3x. Destas a que escolhemos foi a *P-224*. Depois de recolhermos a \n",
    "definição das mesmas, procedemos à implementação do algoritmo com base em documentos encontrados na internet.\n",
    "\n",
    "De modo a facilitar a compreensão do algoritmo implementado, é explicado o significado das variáveis utilizadas:\n",
    "\n",
    "* **s** : *Secret Key* (inteiro) gerada aleatoriamente\n",
    "* **V** : A nossa *Public Key* (ponto da curva) obtida da multiplicação da *secret key* com *G*\n",
    "* **G** : Ponto pertecente à nossa curva elitica (constituido por gx e gy)\n",
    "* **p** : Primo que define o corpo finito da curva elitica\n",
    "* **n** : Ordem do primo\n",
    "* **e** : Chave (inteiro) gerada  aleatoriamente e de forma segura\n",
    "* **(s1,s2)** : Assinatura do documento (inteiro,inteiro)"
   ]
  },
  {
   "cell_type": "code",
   "execution_count": 50,
   "metadata": {},
   "outputs": [],
   "source": [
    "#tabelamento da curva P-224\n",
    "NIST = dict()\n",
    "NIST['P-224'] = { \n",
    "    'p': 26959946667150639794667015087019630673557916260026308143510066298881,\n",
    "    'n': 26959946667150639794667015087019625940457807714424391721682722368061,\n",
    "    'seed': 'bd71344799d5c7fcdc45b59fa3b9ab8f6a948bc5',\n",
    "    'c': '5b056c7e11dd68f40469ee7f3c7a7d74f7d121116506d031218291fb',\n",
    "    'b': 'b4050a850c04b3abf54132565044b0b7d7bfd8ba270b39432355ffb4',\n",
    "    'Gx': 'b70e0cbd6bb4bf7f321390b94a03c1d356c21122343280d6115c1d21',\n",
    "    'Gy': 'bd376388b5f723fb4c22dfe6cd4375a05a07476444d5819985007e34'\n",
    "} \n",
    "\n",
    "class ECDSA:\n",
    "    \n",
    "    def __init__(self):\n",
    "        c = NIST['P-224']\n",
    "        p  = c['p'] \n",
    "        n  = c['n']\n",
    "        b  = ZZ(c['b'],16)\n",
    "        Gx = ZZ(c['Gx'],16)\n",
    "        Gy = ZZ(c['Gy'],16)\n",
    "        E = EllipticCurve(GF(p),[-3,b]) #curva eliptica\n",
    "        self.G = E((Gx,Gy)) #Ponto pertecente à nossa curva elitica (constituido por gx e gy)\n",
    "        self.s = ZZ.random_element(1,p-1) #selecionar numero aleatorio entre 1 e p-1 -secret key\n",
    "        self.V= self.s*self.G\n",
    "\n",
    "    def sign_key(self):\n",
    "        return self.s\n",
    "    \n",
    "    def verify_key(self):\n",
    "        return self.V, self.G\n",
    "    \n",
    "    \n",
    "    def sign(self,key,msg):\n",
    "        Q = GF(self.G.order())\n",
    "        \n",
    "        #hash\n",
    "        Z = IntegerRing()\n",
    "        m = Z(msg.encode(\"hex\"), base=16)\n",
    "        d = Q(m)\n",
    "        \n",
    "        e = Q.random_element()\n",
    "        (x,y,z) = int(e) * self.G #calcular o ponto na curva E:(x,y) = k*G\n",
    "        s1 = Q(x) #r= x (mod n)\n",
    "        s2 = Q((d + key * s1)* 1/e)#s= k-1(z+rd)(mod n)\n",
    "        return s1,s2\n",
    "    \n",
    "    def verify(self, verify_key, signature, msg):\n",
    "        V, G = verify_key\n",
    "        s1, s2 = signature\n",
    "        Q = GF(G.order())\n",
    "        \n",
    "        Z = IntegerRing()\n",
    "        m = Z(msg.encode(\"hex\"), base=16)\n",
    "        d = Q(m)\n",
    "        \n",
    "        v1 = Q(d * 1/s2)\n",
    "        v2 = Q(s1 * 1/s2)\n",
    "        (x,y,z) = (int(v1)*self.G) + (int(v2)*V)\n",
    "        if Q(x)!=s1:\n",
    "            raise ValueError(\"Assinatura Invalida\")"
   ]
  },
  {
   "cell_type": "code",
   "execution_count": 51,
   "metadata": {},
   "outputs": [
    {
     "name": "stdout",
     "output_type": "stream",
     "text": [
      "Mensagem: Esta mensagem vai ser assinada e verificada com sucesso\n",
      "Signature: (12652478553964903363027975263199374617819263728858452934699004753604, 14506590897245168958621185621731102383861829011454942948399060541106)\n",
      "Verificação Bem Sucedida\n",
      "-----------------------\n"
     ]
    }
   ],
   "source": [
    "ecdsa = ECDSA()\n",
    "msg = \"Esta mensagem vai ser assinada e verificada com sucesso\" \n",
    "print \"Mensagem:\", msg\n",
    "\n",
    "sign_key = ecdsa.sign_key()\n",
    "verify_key = ecdsa.verify_key()\n",
    "\n",
    "signature = ecdsa.sign(sign_key,msg)\n",
    "print \"Signature:\", signature\n",
    "\n",
    "msg = ecdsa.verify(verify_key, signature, msg)\n",
    "print \"Verificação Bem Sucedida\"\n",
    "\n",
    "print \"-----------------------\""
   ]
  },
  {
   "cell_type": "code",
   "execution_count": null,
   "metadata": {},
   "outputs": [],
   "source": []
  }
 ],
 "metadata": {
  "kernelspec": {
   "display_name": "SageMath 8.0",
   "language": "",
   "name": "sagemath"
  },
  "language_info": {
   "codemirror_mode": {
    "name": "ipython",
    "version": 2
   },
   "file_extension": ".py",
   "mimetype": "text/x-python",
   "name": "python",
   "nbconvert_exporter": "python",
   "pygments_lexer": "ipython2",
   "version": "2.7.15"
  }
 },
 "nbformat": 4,
 "nbformat_minor": 2
}
