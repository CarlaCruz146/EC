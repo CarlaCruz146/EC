{
 "cells": [
  {
   "cell_type": "markdown",
   "metadata": {},
   "source": [
    "# TP2 : Construir uma classe Python que implemente o DSA"
   ]
  },
  {
   "cell_type": "markdown",
   "metadata": {},
   "source": [
    "## Função auxiliar\n",
    "\n",
    "Foi utilizada uma função auxiliar para gerar um número primo dado o seu tamanho, retornando \n",
    "o primo com o respetivo tamanho indicado.\n"
   ]
  },
  {
   "cell_type": "code",
   "execution_count": 106,
   "metadata": {},
   "outputs": [],
   "source": [
    "def rprime(l):\n",
    "      return random_prime(2^l-1,True,2^(l-1))\n"
   ]
  },
  {
   "cell_type": "markdown",
   "metadata": {},
   "source": [
    "## Definição do problema\n",
    "### Alinea a)\n",
    "\n",
    "Os primos **p** e **q** são passados como parâmetros como é pedido e para a sua geração\n",
    "começamos por gerar **q** aleatoriamente e,posteriormente, calcular para sucessivos valores\n",
    "de \"t\" o valor *p = 1 + q << t * até que p seja primo e tenha o tamanho certo.\n",
    "\n",
    "### Alinea b)\n",
    "\n",
    "Antes de se proceder à implementação das funçoes para assinar e verificar a assinatura foi \n",
    "necessário guardar as variáveis que seriam utilizadas:\n",
    "    \n",
    "* **x** : *Private Key* (inteiro) gerada aleatoriamente entre [1,q]\n",
    "* **y** : *Public Key* gerada a partir da private key (g^x % p) \n",
    "* **g** : é o nosso gerador para as chaves\n",
    "* **(r,sig)** : Assinatura do documento (inteiro,inteiro)\n",
    "    \n",
    "A primeira variável é utilizada para assinar a mensagem, sendo o resultado retornado na forma (r,sig).\n",
    "As variáveis y,g,p e q são utilizadas na verificação da assinatura.\n",
    "\n",
    "Para o algoritmo de assinar e verificar baseamo-nos num documento encontrado na internet.\n"
   ]
  },
  {
   "cell_type": "code",
   "execution_count": 107,
   "metadata": {},
   "outputs": [],
   "source": [
    "from random import randint\n",
    "from fractions import gcd\n",
    "from sage.rings.all import Integer\n",
    "\n",
    "\n",
    "class DSA:\n",
    "    def __init__(self, pbit=1024, qbit=160):\n",
    "        q = rprime(qbit)\n",
    "        t=1\n",
    "        p = 1+2^t * q\n",
    "        while not is_prime(p) and p.nbits() < pbit: #enquanto nao é primo nem tem o tamanho pretendido\n",
    "            t+=1\n",
    "            p = 1+2^t * q\n",
    " \n",
    "        P = Integers(p) #anel de inteiro modulo p\n",
    "        Q = Integers(q) #anel de inteiro modulo q\n",
    "        \n",
    "        for x in Primes(): #testar a primalidade de x\n",
    "            a = P(x)\n",
    "            if a.multiplicative_order() == p-1:\n",
    "                break\n",
    "        \n",
    "        g = pow(a,2**t)#gerador\n",
    "      \n",
    "        x = Q.random_element()#chave privada\n",
    "        y = pow(g,x,p)#chave publica\n",
    "         \n",
    "        self.sign_k = x\n",
    "        self.verify_k = (y,g,p,q)\n",
    "        \n",
    "    def sign_key(self):\n",
    "        return self.sign_k\n",
    "    \n",
    "    def verify_key(self):\n",
    "        return self.verify_k\n",
    "\n",
    "    def sign(self,key,msg) :\n",
    "        (_,g,p,q) = self.verify_k\n",
    "        P = Integers(p)\n",
    "        Q = Integers(q)\n",
    "        r=0\n",
    "        while r==0: #enquanto o r for 0 calcular k novamente\n",
    "            k = Q.random_element()#nonce\n",
    "            r = Q(P(g^k)) \n",
    "        Z = IntegerRing() #retorna o anel inteiro\n",
    "        m = Z(msg.encode(\"hex\"), base=16) #hash  \n",
    "        sig = Q((1/k) *(m + key * r))\n",
    "        return r,sig\n",
    "\n",
    "    def verify(self,verkey,signature,msg) :\n",
    "        (y,g,p,q) = verkey\n",
    "        P = Integers(p)\n",
    "        Q = Integers(q)\n",
    "        r,sig = signature\n",
    "        w = Q(1/sig)\n",
    "        Z = IntegerRing()\n",
    "        m = Z(msg.encode(\"hex\"), base=16) #hash\n",
    "        u1 = Q(m * w)\n",
    "        u2 = Q(r*w)\n",
    "        v = Q(P((g^u1) * (y^u2)))\n",
    "        if v != Q(r):\n",
    "            raise ValueError(\"Assinatura Invalida\")\n"
   ]
  },
  {
   "cell_type": "code",
   "execution_count": 108,
   "metadata": {},
   "outputs": [
    {
     "name": "stdout",
     "output_type": "stream",
     "text": [
      "Mensagem: Esta mensagem vai ser assinada e verificada com sucesso\n",
      "Signature: (434973058844166455056698842466393492032303506118, 327697310434326153499622947746244301059307580694)\n",
      "Verificação Bem Sucedida\n"
     ]
    }
   ],
   "source": [
    "dsa = DSA()\n",
    "msg = \"Esta mensagem vai ser assinada e verificada com sucesso\" \n",
    "print \"Mensagem:\", msg\n",
    "\n",
    "sign_key = dsa.sign_key()\n",
    "verify_key = dsa.verify_key()\n",
    "\n",
    "signature = dsa.sign(sign_key,msg)\n",
    "print \"Signature:\", signature\n",
    "\n",
    "msg = dsa.verify(verify_key,signature, msg)\n",
    "print \"Verificação Bem Sucedida\"\n"
   ]
  },
  {
   "cell_type": "code",
   "execution_count": null,
   "metadata": {},
   "outputs": [],
   "source": []
  }
 ],
 "metadata": {
  "kernelspec": {
   "display_name": "SageMath 8.0",
   "language": "",
   "name": "sagemath"
  },
  "language_info": {
   "codemirror_mode": {
    "name": "ipython",
    "version": 2
   },
   "file_extension": ".py",
   "mimetype": "text/x-python",
   "name": "python",
   "nbconvert_exporter": "python",
   "pygments_lexer": "ipython2",
   "version": "2.7.15"
  }
 },
 "nbformat": 4,
 "nbformat_minor": 2
}
